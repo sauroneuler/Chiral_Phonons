{
  "cells": [
    {
      "cell_type": "markdown",
      "metadata": {},
      "source": [
        "# Cálculos de relación de dispersión de frecuencia en cadenas quirales\n",
        "\n",
        "El objetivo de este trabajo es mostrar los cálculos de la relación de dispersión de fonones de distintas cadenas con simetría de tornillo. En este documento se presentan cálculos para cadenas con simetrías $C_{2}$, $C_{3}$ y $C_{4}$ si se ve la cadena desde arriba. Estos cálculos se hacen con el objetivo de replicar los resultados obtenidos en el paper “Chiral Phonon Diode Effect in Chiral Crystals,” Nano Lett. 2022, 22, 4, 1688-1693 y de explorar la posibilidad de encontrar fonones quirales con velocidad de grupo no nula. \n"
      ],
      "id": "dfe1cf41"
    },
    {
      "cell_type": "code",
      "metadata": {},
      "source": [
        "from pylab import *"
      ],
      "id": "b6e871f5",
      "execution_count": null,
      "outputs": []
    },
    {
      "cell_type": "markdown",
      "metadata": {},
      "source": [
        "## Tensor de constantes de red para una cadena quiral\n",
        "\n",
        "Los tensores de constante de red para estos sistemas se calculan siguiendo la técnica expuesta por Saito en su libro *Physical Properties of Carbon Nanotubes*, la cual consiste en transformar el tensor de esfuerzos en su representación diagonal por matrices de rotación cuyos ángulos son obtenidos de las posiciones relativas entre dos átomos del sistema. Para las cadenas modeladas a continuación, se supuso que los enlaces de interacción entre los átomos formaban ángulos de $\\varphi = \\pi/3$ respecto a los planos perpendiculares al eje de traslación. Asimismo, vistos desde arriba los tres sitios tenían ángulos de $\\theta = 2 \\pi / n$ entre ellos donde $n$ es el entero que define la simetría $C_{n}$. \n",
        "\n",
        "Se asumió que todos los átomos de la cadena (4 como máximo para el caso de $C_{4}$) tenían la misma masa. Asimismo, se asumió que en todos los casos el tensor de constante de red en su representación diagonal se escribía como sigue: $$K_{x} = \\begin{pmatrix}K_{L} & 0 & 0 \\\\\n",
        "0 & K_{T1} & 0 \\\\\n",
        "0 & 0 & K_{T2}\\end{pmatrix},$$ donde $K_{L} = 1$, $K_{T1} = 0.05$ y $K_{T2} = 0.25$.\n"
      ],
      "id": "bbe4d404"
    },
    {
      "cell_type": "code",
      "metadata": {},
      "source": [
        "#Constantes\n",
        "m1 = 1\n",
        "m2 = 1\n",
        "m3 = 1\n",
        "m4 = 1\n",
        "c = 1"
      ],
      "id": "df27e58d",
      "execution_count": null,
      "outputs": []
    },
    {
      "cell_type": "code",
      "metadata": {},
      "source": [
        "#Matriz de resortes a lo largo de x.\n",
        "KL = 1\n",
        "KT1 = 0.05\n",
        "KT2 = 0.25\n",
        "\n",
        "Kx = array([[KL,0,0],\n",
        "              [0,KT1,0],\n",
        "              [0,0,KT2]],dtype=complex)"
      ],
      "id": "11fe8042",
      "execution_count": null,
      "outputs": []
    },
    {
      "cell_type": "markdown",
      "metadata": {},
      "source": [
        "Se definió una rotación en torno al eje y como $$T(\\varphi) = \\begin{pmatrix} \\cos (\\varphi) & 0 & \\sin (\\varphi) \\\\\n",
        "0 & 1 & 0 \\\\\n",
        "- \\sin (\\varphi) & 0 & \\cos(\\varphi)\\end{pmatrix}.$$ De esta forma, la constante de fuerza $$K_{x2} = T(\\varphi) K_{x} T(- \\varphi)$$ tiene un angulo de $\\varphi$ respecto al plano x - y. Por otra parte, se definió la matriz de rotación respecto al eje - z como $$U(\\theta) = \\begin{pmatrix} \\cos (\\theta) & - \\sin (\\theta) & 0 \\\\\n",
        "- \\sin (\\theta) & \\cos (\\theta) & 0 \\\\\n",
        "0 & 0 & 1\\end{pmatrix}.$$ De esta forma, si $\\theta$ era el ángulo entre dos sitios, podía definirse la constante de red entre dichos sitios como $$K = U(\\theta)K_{x2}U(-\\theta).$$\n"
      ],
      "id": "bfa69be8"
    },
    {
      "cell_type": "code",
      "metadata": {},
      "source": [
        "#Rotación de φ respecto al plano x - y.\n",
        "φxy = pi/3\n",
        "\n",
        "def T(φ):\n",
        "  return array([[cos(φ) ,0.  ,sin(φ)],\n",
        "                [0.     ,1.  ,0],\n",
        "                [-sin(φ),0.  ,cos(φ)]])"
      ],
      "id": "81e29f17",
      "execution_count": null,
      "outputs": []
    },
    {
      "cell_type": "code",
      "metadata": {},
      "source": [
        "#Rotación respecto al eje z.\n",
        "def U(θ):\n",
        "  return array([[cos(θ),-sin(θ),0],\n",
        "              [sin(θ),cos(θ),0],\n",
        "              [       0,      0,1]] )"
      ],
      "id": "257b9804",
      "execution_count": null,
      "outputs": []
    },
    {
      "cell_type": "code",
      "metadata": {},
      "source": [
        "#Matriz de resortes a lo largo de x.\n",
        "KL = 1\n",
        "KT1 = 0.05\n",
        "KT2 = 0.25\n",
        "\n",
        "Kx = array([[KL,0,0],\n",
        "              [0,KT1,0],\n",
        "              [0,0,KT2]],dtype=complex)"
      ],
      "id": "7b6fdb88",
      "execution_count": null,
      "outputs": []
    },
    {
      "cell_type": "markdown",
      "metadata": {},
      "source": [
        "## Definición de la matriz dinámica\n",
        "\n",
        "En general, los elementos de la matriz dinámica tenían la forma $$D_{ij} = - \\frac{K_{ij}}{\\sqrt{m_{i}m_{j}}}$$ para elementos fuera de la diagonal y $$K_{ii} = \\frac{\\sum_{i\\neq j}Kij}{m_{i}}$$ para elementos fuera de la diagonal. En este último término la suma es solo sobre los primeros vecinos del elemento i. Asimismo, en caso de que la interacción fuera con un elemento fuera de la celda unitaria, se añadía la fase correspondiente. \n",
        "\n",
        "## Definición del operador de polarización\n",
        "\n",
        "La quiralidad de los fonones se determina a partir de un valor no nulo de la polarización de fonón. Esta se obtiene apartir del valor esperado del operador de polarización. Este operador corresponde a la proyección sobre una base con movimiento circular bien definido. Para un sólo átomo, esta base es $$| R \\rangle = \\frac{1}{\\sqrt{2}}(1,i)^{T}; | L \\rangle = \\frac{1}{\\sqrt{2}}(1,-i)^{T}.$$ Explícitamente, el operador de Polarización está dado por $$\\hat{S}_{z} = \\sum_{\\alpha = 1}^{n} \\left(|R_{\\alpha}\\rangle \\langle R_{\\alpha}| -  |L_{\\alpha}\\rangle \\langle L_{\\alpha}|\\right).$$ La suma se hace sobre todos los sitios del sistema. Debajo, se muestran bloques de código donde se define un operador de pseudomomento para una cadena con $n$ átomos, así como una función que calcula el valor esperado de un operador.\n"
      ],
      "id": "f06dcc34"
    },
    {
      "cell_type": "code",
      "metadata": {},
      "source": [
        "def OperadorPseudomomento(n):\n",
        "\n",
        "  Sz = array([[0,-1J,0],\n",
        "              [1J,0,0],\n",
        "              [0,0,0]],dtype=complex)\n",
        "\n",
        "  return np.kron(np.eye(n,dtype=complex),Sz)\n",
        "\n",
        "def expectedval(vec,S):\n",
        "    return dot(np.conj(vec).T,dot(S,vec)).real"
      ],
      "id": "0a9b2c3c",
      "execution_count": null,
      "outputs": []
    },
    {
      "cell_type": "markdown",
      "metadata": {},
      "source": [
        "# Cálculos para la simetría $C_{2}$\n",
        "\n",
        "Debajo se muestra un bloque de código donde se define una función que construye y diagonaliza la matriz dinámica para una cadena con simetría $C_{2}$, y que además obtiene la polarización de los modos vibracionales. \n"
      ],
      "id": "8ca74d47"
    },
    {
      "cell_type": "code",
      "metadata": {},
      "source": [
        "def EigenfrequenciesC2(k):\n",
        "\n",
        "  \"\"\"Función que regresa las eigenfrecuencias para un vector recíproco kz dado.\"\"\"\n",
        "\n",
        "  #Se define el tensor de esfuerzos de todo el sistema.\n",
        "\n",
        "  #Matriz con constante de fuerza considerando una rotación respecto al plano x - y.\n",
        "  φxy = pi/3\n",
        "  Kx2 = dot(T(φxy),dot(Kx,T(-φxy)))\n",
        "\n",
        "  #Matrices de fuerza para cada uno de los vectores en la red.\n",
        "  K12 = dot(U(0),dot(Kx2,U(0)))\n",
        "\n",
        "  DicMat   = { 0:  2* K12/m1,\n",
        "               1: -1*(K12 + K12*exp(-1J*k*c))/sqrt(m1*m2),\n",
        "               2: -1*(K12 + K12*exp(-1J*k*c)).conj().T/sqrt(m1*m2),\n",
        "               3:  2*K12/m2}\n",
        "\n",
        "\n",
        "  Dinteger = array([[0,1],\n",
        "                    [2,3]])\n",
        "\n",
        "  Dm = [ [DicMat[i] for i in rw] for rw in Dinteger ]\n",
        "  Dynamical = asarray(np.bmat(Dm))\n",
        "\n",
        "  ω2,eigvecs = eigh(Dynamical)\n",
        "\n",
        "  #Se definen los operadores de Pseudomomento.\n",
        "\n",
        "  S = OperadorPseudomomento(2)\n",
        "\n",
        "  pseudomom = []\n",
        "\n",
        "\n",
        "  for i in range(len(ω2)):\n",
        "    eigvec = eigvecs[:,i]\n",
        "    pseudomom.append(expectedval(eigvec,S))\n",
        "\n",
        "  return sqrt(abs(ω2))/2/pi,pseudomom"
      ],
      "id": "3ea9a799",
      "execution_count": null,
      "outputs": []
    },
    {
      "cell_type": "markdown",
      "metadata": {},
      "source": [
        "Finalmente, se muestra la gráfica de bandas para la cadena $C_{2}$:\n"
      ],
      "id": "f3983432"
    },
    {
      "cell_type": "code",
      "metadata": {},
      "source": [
        "Kpoints = np.linspace(-pi/c,pi/c,500)\n",
        "\n",
        "Klabels = [r\"K/2\",r\"Γ\",r\"K/2\"]\n",
        "Kticks = concatenate([[0],[250],[500]])\n",
        "\n",
        "BandasC2 = []\n",
        "PseudomomC2 = []\n",
        "\n",
        "KevaluateC2 = (list( map(EigenfrequenciesC2,Kpoints) ))\n",
        "\n",
        "for ω2,psmom in KevaluateC2:\n",
        "  BandasC2.append(ω2)\n",
        "  PseudomomC2.append(psmom)\n",
        "\n",
        "BandasC2 = array(BandasC2)\n",
        "PseudomomC2 = array(PseudomomC2)\n",
        "\n",
        "numKC2,nbandsC2 = shape(BandasC2)\n",
        "kenumC2 = arange(numKC2)\n",
        "\n",
        "fig,ax = plt.subplots(ncols=1,nrows=1,figsize=(4.5,6))\n",
        "for j in range(nbandsC2):\n",
        "  graficaC2 = ax.scatter(kenumC2,BandasC2.T[j],c = PseudomomC2.T[j],cmap = \"coolwarm\",vmax = 1, vmin = -1,s = 5)\n",
        "fig.colorbar(graficaC2)\n",
        "ax.set_xticks(Kticks)\n",
        "ax.set_xticklabels(Klabels,fontsize = 20);"
      ],
      "id": "3eb93565",
      "execution_count": null,
      "outputs": []
    },
    {
      "cell_type": "markdown",
      "metadata": {},
      "source": [
        "# Cálculos para la simetría $C_{3}$\n",
        "\n",
        "Debajo se muestra un bloque de código donde se define una función que construye y diagonaliza la matriz dinámica para una cadena con simetría $C_{2}$, y que además obtiene la polarización de los modos vibracionales. \n"
      ],
      "id": "7fc5927c"
    },
    {
      "cell_type": "code",
      "metadata": {},
      "source": [
        "def EigenfrequenciesC3(k):\n",
        "\n",
        "  \"\"\"Función que regresa las eigenfrecuencias para un vector recíproco kz dado.\"\"\"\n",
        "\n",
        "  #Se define el tensor de esfuerzos de todo el sistema.\n",
        "\n",
        "  #Matriz con constante de fuerza considerando una rotación respecto al plano x - y.\n",
        "  φxy = pi/3\n",
        "  Kx2 = dot(T(φxy),dot(Kx,T(-φxy)))\n",
        "\n",
        "  #Matrices de fuerza para cada uno de los vectores en la red.\n",
        "  K23 = dot(U(pi),dot(Kx2,U(-pi)))     #Calculada tomando 2 como origen.\n",
        "  K12 = dot(U(pi/3),dot(Kx2,U(-pi/3))) #Calculada tomando 1 como origen.\n",
        "  K13 = dot(U(-pi/3),dot(Kx2,U(pi/3))) #Calculado tomando 3 como origen.\n",
        "\n",
        "  DicMat   = { 0: (K12 + K13)/m1,\n",
        "               1: -K12/sqrt(m1*m2),\n",
        "               2: -K13/sqrt(m1*m3)*exp(-1J*k*c),\n",
        "               3: -K12/sqrt(m1*m2),\n",
        "               4: (K23+K12)/m2,\n",
        "               5: -K23/sqrt(m2*m3),\n",
        "               6: -K13/sqrt(m1*m3)*exp(1J*k*c),\n",
        "               7: -K23/sqrt(m2*m3),\n",
        "               8: (K23 + K13)/m3 }\n",
        "\n",
        "  Dinteger = array([[0,1,2],\n",
        "                    [3,4,5],\n",
        "                    [6,7,8]])\n",
        "\n",
        "  Dm = [ [DicMat[i] for i in rw] for rw in Dinteger ]\n",
        "  Dynamical = asarray(np.bmat(Dm))\n",
        "\n",
        "  ω2,eigvecs = eigh(Dynamical)\n",
        "\n",
        "  #Se definen los operadores de Pseudomomento.\n",
        "\n",
        "  S = OperadorPseudomomento(3)\n",
        "\n",
        "  pseudomom = []\n",
        "\n",
        "\n",
        "  for i in range(len(ω2)):\n",
        "    eigvec = eigvecs[:,i]\n",
        "    pseudomom.append(expectedval(eigvec,S))\n",
        "\n",
        "  return sqrt(abs(ω2))/2/pi,pseudomom"
      ],
      "id": "54edd365",
      "execution_count": null,
      "outputs": []
    },
    {
      "cell_type": "markdown",
      "metadata": {},
      "source": [
        "Finalmente, se muestra la gráfica de bandas para la cadena $C_{3}:\n"
      ],
      "id": "45e0a045"
    },
    {
      "cell_type": "code",
      "metadata": {},
      "source": [
        "Kpoints = np.linspace(-pi/c,pi/c,500)\n",
        "\n",
        "Klabels = [r\"K/2\",r\"Γ\",r\"K/2\"]\n",
        "Kticks = concatenate([[0],[250],[500]])\n",
        "\n",
        "BandasC3 = []\n",
        "PseudomomC3 = []\n",
        "\n",
        "KevaluateC3 = (list( map(EigenfrequenciesC3,Kpoints) ))\n",
        "\n",
        "for ω2,psmom in KevaluateC3:\n",
        "  BandasC3.append(ω2)\n",
        "  PseudomomC3.append(psmom)\n",
        "\n",
        "BandasC3 = array(BandasC3)\n",
        "PseudomomC3 = array(PseudomomC3)\n",
        "\n",
        "numKC3,nbandsC3 = shape(BandasC3)\n",
        "kenumC3 = arange(numKC3)\n",
        "\n",
        "fig,ax = plt.subplots(ncols=1,nrows=1,figsize=(4.5,6))\n",
        "for j in range(nbandsC3):\n",
        "  graficaC3 = ax.scatter(kenumC3,BandasC3.T[j],c = PseudomomC3.T[j],cmap = \"coolwarm\",vmax = 1, vmin = -1,s = 5)\n",
        "fig.colorbar(graficaC3)\n",
        "ax.set_xticks(Kticks)\n",
        "ax.set_xticklabels(Klabels,fontsize = 20);"
      ],
      "id": "a6a4187a",
      "execution_count": null,
      "outputs": []
    },
    {
      "cell_type": "markdown",
      "metadata": {},
      "source": [
        "# Cálculos para la simetría $C_{4}$\n",
        "\n",
        "Debajo se muestra un bloque de código donde se define una función que construye y diagonaliza la matriz dinámica para una cadena con simetría $C_{2}$, y que además obtiene la polarización de los modos vibracionales. \n"
      ],
      "id": "2b677a68"
    },
    {
      "cell_type": "code",
      "metadata": {},
      "source": [
        "def rad(x):\n",
        "  return x*pi/180"
      ],
      "id": "777c5de0",
      "execution_count": null,
      "outputs": []
    },
    {
      "cell_type": "code",
      "metadata": {},
      "source": [
        "def EigenfrequenciesC4(k):\n",
        "\n",
        "  \"\"\"Función que regresa las eigenfrecuencias para un vector recíproco kz dado.\"\"\"\n",
        "\n",
        "  #Se define el tensor de esfuerzos de todo el sistema.\n",
        "\n",
        "  #Matriz con constante de fuerza considerando una rotación respecto al plano x - y.\n",
        "  φxy = pi/3\n",
        "  Kx2 = dot(T(φxy),dot(Kx,T(-φxy)))\n",
        "\n",
        "  #Matrices de fuerza para cada uno de los vectores en la red.\n",
        "  K12 = dot(U(0),dot(Kx2,U(0)))\n",
        "  K13 = np.zeros((3, 3))\n",
        "  K14 = dot(U(-pi/2),dot(Kx2,U(pi/2)))\n",
        "\n",
        "  K23 = dot(U(pi/2),dot(Kx2,U(-pi/2)))\n",
        "  K24 = np.zeros((3, 3))\n",
        "\n",
        "  K34 = dot(U(pi),dot(Kx,U(-pi)))\n",
        "\n",
        "  DicMat   = { 0: (K12 + K13 + K14)/m1,\n",
        "               1: -K12/sqrt(m1*m2),\n",
        "               2: -K13/sqrt(m1*m3),\n",
        "               3: -K14/sqrt(m1*m4)*exp(-1J*k*c),\n",
        "               4: -K12.conj().T/sqrt(m1*m2),\n",
        "               5: (K12 + K23 + K24)/m2,\n",
        "               6: -K23/sqrt(m2*m3),\n",
        "               7: -K24/sqrt(m2*m4),\n",
        "               8: -K13.conj().T/sqrt(m3*m1),\n",
        "               9: -K23.conj().T/sqrt(m3*m2),\n",
        "               10: (K13 + K23 + K34)/m3,\n",
        "               11: -K34/sqrt(m3*m4),\n",
        "               12: -K14.conj().T/sqrt(m4*m1)*exp(1J*k*c),\n",
        "               13: -K24.conj().T/sqrt(m4*m2),\n",
        "               14: -K34.conj().T/sqrt(m4*m3),\n",
        "               15: (K14 + K24 + K34)/m4}\n",
        "\n",
        "\n",
        "  Dinteger = array([[0,1,2,3],\n",
        "                    [4,5,6,7],\n",
        "                    [8,9,10,11],\n",
        "                    [12,13,14,15]])\n",
        "\n",
        "  Dm = [ [DicMat[i] for i in rw] for rw in Dinteger ]\n",
        "  Dynamical = asarray(np.bmat(Dm))\n",
        "\n",
        "\n",
        "  ω2,eigvecs = eigh(Dynamical)\n",
        "\n",
        "  #Se definen los operadores de Pseudomomento.\n",
        "\n",
        "  S = OperadorPseudomomento(4)\n",
        "\n",
        "  pseudomom = []\n",
        "\n",
        "\n",
        "  for i in range(len(ω2)):\n",
        "    eigvec = eigvecs[:,i]\n",
        "    pseudomom.append(expectedval(eigvec,S))\n",
        "\n",
        "  return sqrt(abs(ω2))/2/pi,pseudomom"
      ],
      "id": "01639748",
      "execution_count": null,
      "outputs": []
    },
    {
      "cell_type": "markdown",
      "metadata": {},
      "source": [
        "Finalmente, se muestra la gráfica de bandas para la cadena $C_{4}:\n"
      ],
      "id": "c94147d3"
    },
    {
      "cell_type": "code",
      "metadata": {},
      "source": [
        "Kpoints = np.linspace(-pi/c,pi/c,500)\n",
        "\n",
        "Klabels = [r\"K/2\",r\"Γ\",r\"K/2\"]\n",
        "Kticks = concatenate([[0],[250],[500]])\n",
        "\n",
        "BandasC4 = []\n",
        "PseudomomC4 = []\n",
        "\n",
        "KevaluateC4 = (list( map(EigenfrequenciesC4,Kpoints) ))\n",
        "\n",
        "for ω2,psmom in KevaluateC4:\n",
        "  BandasC4.append(ω2)\n",
        "  PseudomomC4.append(psmom)\n",
        "\n",
        "BandasC4 = array(BandasC4)\n",
        "PseudomomC4 = array(PseudomomC4)\n",
        "\n",
        "numKC4,nbandsC4 = shape(BandasC4)\n",
        "kenumC4 = arange(numKC4)\n",
        "\n",
        "fig,ax = plt.subplots(ncols=1,nrows=1,figsize=(4.5,6))\n",
        "for j in range(nbandsC4):\n",
        "  graficaC4 = ax.scatter(kenumC4,BandasC4.T[j],c = PseudomomC4.T[j],cmap = \"coolwarm\",vmax = 1, vmin = -1,s = 5)\n",
        "fig.colorbar(graficaC4)\n",
        "ax.set_xticks(Kticks)\n",
        "ax.set_xticklabels(Klabels,fontsize = 20);"
      ],
      "id": "fee6f83b",
      "execution_count": null,
      "outputs": []
    }
  ],
  "metadata": {
    "kernelspec": {
      "name": "python3",
      "language": "python",
      "display_name": "Python 3 (ipykernel)"
    }
  },
  "nbformat": 4,
  "nbformat_minor": 5
}